{
  "nbformat": 4,
  "nbformat_minor": 0,
  "metadata": {
    "colab": {
      "provenance": [],
      "authorship_tag": "ABX9TyNSyCzdFIb5RaVt8Gm+096s",
      "include_colab_link": true
    },
    "kernelspec": {
      "name": "python3",
      "display_name": "Python 3"
    },
    "language_info": {
      "name": "python"
    }
  },
  "cells": [
    {
      "cell_type": "markdown",
      "metadata": {
        "id": "view-in-github",
        "colab_type": "text"
      },
      "source": [
        "<a href=\"https://colab.research.google.com/github/rag09reddy/Hugging_face/blob/main/python_file.ipynb\" target=\"_parent\"><img src=\"https://colab.research.google.com/assets/colab-badge.svg\" alt=\"Open In Colab\"/></a>"
      ]
    },
    {
      "cell_type": "code",
      "execution_count": null,
      "metadata": {
        "id": "IYR51aOR3DdY"
      },
      "outputs": [],
      "source": [
        "\n",
        "from dotenv import load_dotenv\n",
        "\n",
        "# Load the .env file from the current directory\n",
        "load_dotenv()\n",
        "\n",
        "# Continue with your code\n",
        "from transformers import pipeline\n",
        "\n",
        "def img2text(url):\n",
        "    image_to_text = pipeline(\"image-to-text\", model=\"Salesforce/blip-image-captioning-base\")\n",
        "    text = image_to_text(url)\n",
        "    print(text)\n",
        "    return text\n",
        "\n",
        "img2text(\"photo.png\")"
      ]
    }
  ]
}